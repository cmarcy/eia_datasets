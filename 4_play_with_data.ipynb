{
 "cells": [
  {
   "cell_type": "code",
   "execution_count": 5,
   "metadata": {},
   "outputs": [],
   "source": [
    "#this worksheet contains different examples of how to use the raw data files for various one off analyses.\n",
    "\n",
    "\n",
    "#importing packages needed for analysis\n",
    "import pandas as pd\n",
    "import numpy as np\n",
    "import os\n"
   ]
  },
  {
   "cell_type": "code",
   "execution_count": 6,
   "metadata": {},
   "outputs": [
    {
     "name": "stdout",
     "output_type": "stream",
     "text": [
      "Index(['Plant Id', 'Combined Heat And Power Plant', 'Nuclear Unit Id',\n",
      "       'Plant Name', 'Operator Name', 'Operator Id', 'Plant State',\n",
      "       'Census Region', 'NERC Region', 'Reserved', 'NAICS Code',\n",
      "       'EIA Sector Number', 'Sector Name', 'Reported Prime Mover',\n",
      "       'Reported Fuel Type Code', 'AER Fuel Type Code', 'Reserved.1',\n",
      "       'Reserved.2', 'Physical Unit Label', 'Quantity January',\n",
      "       'Quantity February', 'Quantity March', 'Quantity April', 'Quantity May',\n",
      "       'Quantity June', 'Quantity July', 'Quantity August',\n",
      "       'Quantity September', 'Quantity October', 'Quantity November',\n",
      "       'Quantity December', 'Elec Quantity January', 'Elec Quantity February',\n",
      "       'Elec Quantity March', 'Elec Quantity April', 'Elec Quantity May',\n",
      "       'Elec Quantity June', 'Elec Quantity July', 'Elec Quantity August',\n",
      "       'Elec Quantity September', 'Elec Quantity October',\n",
      "       'Elec Quantity November', 'Elec Quantity December',\n",
      "       'MMBtuPer Unit January', 'MMBtuPer Unit February',\n",
      "       'MMBtuPer Unit March', 'MMBtuPer Unit April', 'MMBtuPer Unit May',\n",
      "       'MMBtuPer Unit June', 'MMBtuPer Unit July', 'MMBtuPer Unit August',\n",
      "       'MMBtuPer Unit September', 'MMBtuPer Unit October',\n",
      "       'MMBtuPer Unit November', 'MMBtuPer Unit December', 'Tot MMBtu January',\n",
      "       'Tot MMBtu February', 'Tot MMBtu March', 'Tot MMBtu April',\n",
      "       'Tot MMBtu May', 'Tot MMBtu June', 'Tot MMBtu July', 'Tot MMBtu August',\n",
      "       'Tot MMBtu September', 'Tot MMBtu October', 'Tot MMBtu November',\n",
      "       'Tot MMBtu December', 'Elec MMBtu January', 'Elec MMBtu February',\n",
      "       'Elec MMBtu March', 'Elec MMBtu April', 'Elec MMBtu May',\n",
      "       'Elec MMBtu June', 'Elec MMBtu July', 'Elec MMBtu August',\n",
      "       'Elec MMBtu September', 'Elec MMBtu October', 'Elec MMBtu November',\n",
      "       'Elec MMBtu December', 'Netgen January', 'Netgen February',\n",
      "       'Netgen March', 'Netgen April', 'Netgen May', 'Netgen June',\n",
      "       'Netgen July', 'Netgen August', 'Netgen September', 'Netgen October',\n",
      "       'Netgen November', 'Netgen December', 'Total Fuel Consumption Quantity',\n",
      "       'Electric Fuel Consumption Quantity', 'Total Fuel Consumption MMBtu',\n",
      "       'Elec Fuel Consumption MMBtu', 'Net Generation (Megawatthours)', 'YEAR',\n",
      "       'YR', 'Balancing Authority Code', 'Respondent Frequency'],\n",
      "      dtype='object')\n"
     ]
    }
   ],
   "source": [
    "#Read in the raw datasets\n",
    "\n",
    "eia923g_raw = pd.read_csv('outputs/eia923g_raw.csv', thousands=',', encoding='latin-1', low_memory=False)\n",
    "eia923g_raw.columns = eia923g_raw.columns.str.replace('\\n', ' ')\n",
    "eia923g_raw.columns = eia923g_raw.columns.str.replace('  ', ' ')\n",
    "eia923g_raw.columns = eia923g_raw.columns.str.replace('_', ' ')\n",
    "#print(eia923g_raw.columns)\n",
    "\n",
    "eia923p_raw = pd.read_csv('outputs/eia923p_raw.csv', thousands=',', encoding='latin-1', low_memory=False)\n",
    "eia923p_raw.columns = eia923p_raw.columns.str.replace('\\n', ' ')\n",
    "eia923p_raw.columns = eia923p_raw.columns.str.replace('  ', ' ')\n",
    "eia923p_raw.columns = eia923p_raw.columns.str.replace('_', ' ')\n",
    "print(eia923p_raw.columns)\n",
    "\n",
    "eia860_raw = pd.read_csv('outputs/eia860_raw.csv', thousands=',', encoding='latin-1', low_memory=False)\n",
    "#print(eia860_raw.columns)\n",
    "\n",
    "eia860_RE_raw = pd.read_csv('outputs/eia860_RE_raw.csv', thousands=',', encoding='latin-1', low_memory=False)\n",
    "#print(eia860_RE_raw.columns)\n"
   ]
  },
  {
   "cell_type": "code",
   "execution_count": 7,
   "metadata": {},
   "outputs": [
    {
     "name": "stdout",
     "output_type": "stream",
     "text": [
      "(6285, 7)\n",
      "(6285, 12)\n",
      "\n",
      "(15232, 7)\n",
      "(15232, 12)\n"
     ]
    }
   ],
   "source": [
    "#down select columns needed for analysis\n",
    "eia923g = eia923g_raw[['Plant Id','Combined Heat And Power Plant','Generator Id','Balancing Authority Code','NERC Region', \n",
    "        'Census Region','Reported Prime Mover','Net Generation Year To Date','YR']].copy()\n",
    "eia860 = eia860_raw.copy()\n",
    "eia860 = eia860[['Plant Code','Generator ID','Technology','Prime Mover','Summer Capacity (MW)','Operating Year','YR']]\n",
    "eia860 = eia860.rename(columns={'Plant Code':'Plant Id','Generator ID':'Generator Id','Prime Mover':'Reported Prime Mover'})\n",
    "\n",
    "#create coal worksheet, combine the 860 and 923 data\n",
    "coal = eia860[eia860['Technology']=='Conventional Steam Coal']\n",
    "print(coal.shape)\n",
    "coal_combo = pd.merge(eia923g,coal,on=['Plant Id','Generator Id','Reported Prime Mover','YR'],how='right')\n",
    "print(coal_combo.shape)\n",
    "coal_combo.to_csv('outputs/coal.csv',index=False)\n",
    "print()\n",
    "\n",
    "#create ngcc worksheet, combine the 860 and 923 data\n",
    "ngcc = eia860[eia860['Technology']=='Natural Gas Fired Combined Cycle']\n",
    "print(ngcc.shape)\n",
    "ngcc_combo = pd.merge(eia923g,ngcc,on=['Plant Id','Generator Id','Reported Prime Mover','YR'],how='right')\n",
    "print(ngcc_combo.shape)\n",
    "ngcc_combo.to_csv('outputs/ngcc.csv',index=False)\n"
   ]
  },
  {
   "cell_type": "code",
   "execution_count": 8,
   "metadata": {},
   "outputs": [
    {
     "name": "stdout",
     "output_type": "stream",
     "text": [
      "(110252, 7)\n",
      "(25251, 7)\n",
      "(5621, 7)\n",
      "(4223, 4)\n",
      "(3122, 4)\n",
      "\n",
      "(177118, 77)\n",
      "(18696, 77)\n",
      "(18696, 4)\n",
      "\n",
      "(3122, 7)\n"
     ]
    }
   ],
   "source": [
    "#print(eia923p_raw.columns)\n",
    "eia923p = eia923p_raw[['Plant Id', 'Reported Prime Mover', 'Reported Fuel Type Code', 'AER Fuel Type Code', \n",
    "                       'Elec Fuel Consumption MMBtu', 'Net Generation (Megawatthours)', 'YR',]].copy()\n",
    "print(eia923p.shape)\n",
    "\n",
    "#down select to coal steam turbines\n",
    "coal_p = eia923p[eia923p['Reported Prime Mover']=='ST'].copy()\n",
    "print(coal_p.shape)\n",
    "coal_p = coal_p[coal_p['AER Fuel Type Code']=='COL']\n",
    "print(coal_p.shape)\n",
    "coal_p = coal_p.drop(columns=['Reported Prime Mover','Reported Fuel Type Code','AER Fuel Type Code'])\n",
    "coal_p = coal_p.groupby(['Plant Id','YR'],as_index=False).sum()\n",
    "print(coal_p.shape)\n",
    "coal_p = coal_p[coal_p['Net Generation (Megawatthours)']>0]\n",
    "print(coal_p.shape)\n",
    "print()\n",
    "\n",
    "#add to the 860 generator data the retired generators to get all units operating throughout the year\n",
    "eia860_RE = eia860_RE_raw[eia860_RE_raw['Retirement Year']==eia860_RE_raw['YR'].astype(str)].copy()\n",
    "eia860_op = pd.concat([eia860_raw,eia860_RE])\n",
    "print(eia860_op.shape)\n",
    "\n",
    "#down select to steam turbines\n",
    "coal_g = eia860_op[eia860_op['Prime Mover']=='ST']\n",
    "print(coal_g.shape)\n",
    "coal_g = coal_g[['Plant Code','Summer Capacity (MW)','Operating Year','YR']].rename(columns={'Plant Code':'Plant Id'})\n",
    "print(coal_g.shape)\n",
    "print()\n",
    "\n",
    "#aggregate up to plant\n",
    "coal_g['Operating Year'] = coal_g['Operating Year'].apply(np.int64)\n",
    "coal_g['Summer Capacity (MW)'] = pd.to_numeric(coal_g['Summer Capacity (MW)'], downcast='float', errors='coerce')\n",
    "coal_g = coal_g[coal_g['Summer Capacity (MW)']>0]\n",
    "coal_g['Operating Year'] = coal_g['Operating Year'] * coal_g['Summer Capacity (MW)']\n",
    "coal_g = coal_g.groupby(['Plant Id','YR'],as_index=False).sum()\n",
    "\n",
    "#calculate capacity weighted operating year and age of plant\n",
    "coal_g['Operating Year'] = coal_g['Operating Year'] / coal_g['Summer Capacity (MW)']\n",
    "coal_g['Operating Year'] = coal_g['Operating Year'].apply(np.int64)\n",
    "coal_g['Age'] = coal_g['YR'] - coal_g['Operating Year']\n",
    "#print(coal_g.dtypes)\n",
    "\n",
    "#add capacity, op year, and age data to 923 dataframe\n",
    "coal_p = pd.merge(coal_p,coal_g,on=['Plant Id','YR'],how='left')\n",
    "print(coal_p.shape)\n",
    "coal_p.to_csv('outputs/heatrate.csv',index=False)\n"
   ]
  },
  {
   "cell_type": "code",
   "execution_count": null,
   "metadata": {},
   "outputs": [],
   "source": []
  },
  {
   "cell_type": "code",
   "execution_count": null,
   "metadata": {},
   "outputs": [],
   "source": []
  }
 ],
 "metadata": {
  "kernelspec": {
   "display_name": "Python 3 (ipykernel)",
   "language": "python",
   "name": "python3"
  },
  "language_info": {
   "codemirror_mode": {
    "name": "ipython",
    "version": 3
   },
   "file_extension": ".py",
   "mimetype": "text/x-python",
   "name": "python",
   "nbconvert_exporter": "python",
   "pygments_lexer": "ipython3",
   "version": "3.10.9"
  }
 },
 "nbformat": 4,
 "nbformat_minor": 4
}
