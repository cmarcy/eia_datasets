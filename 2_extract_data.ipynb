{
 "cells": [
  {
   "cell_type": "code",
   "execution_count": 4,
   "metadata": {},
   "outputs": [],
   "source": [
    "import zipfile\n",
    "import os\n"
   ]
  },
  {
   "cell_type": "code",
   "execution_count": 5,
   "metadata": {},
   "outputs": [
    {
     "name": "stdout",
     "output_type": "stream",
     "text": [
      "['eia8602005.zip', 'eia8602008.zip', 'eia8602009.zip', 'eia8602010.zip', 'eia8602011.zip', 'eia8602012.zip', 'eia8602013.zip', 'eia8602014.zip', 'eia8602015.zip', 'eia8602016.zip', 'eia8602017.zip', 'eia8602018.zip', 'eia8602019.zip', 'eia8602020.zip', 'eia8602021.zip', 'eia8602021ER.zip', 'f8612015.zip', 'f8612016.zip', 'f8612017.zip', 'f8612018.zip', 'f8612019.zip', 'f8612020.zip', 'f8612021.zip', 'f906920_2005.zip', 'f923_2008.zip', 'f923_2009.zip', 'f923_2010.zip', 'f923_2011.zip', 'f923_2012.zip', 'f923_2013.zip', 'f923_2014.zip', 'f923_2015.zip', 'f923_2016.zip', 'f923_2017.zip', 'f923_2018.zip', 'f923_2019.zip', 'f923_2020.zip', 'f923_2021.zip', 'f923_2021ER.zip', 'f923_2022.zip']\n"
     ]
    }
   ],
   "source": [
    "zip_list = []\n",
    "\n",
    "path = 'inputs/zips/'\n",
    "files = os.listdir(path)\n",
    "for f in files:zip_list.append(f)\n",
    "print(zip_list)"
   ]
  },
  {
   "cell_type": "code",
   "execution_count": 6,
   "metadata": {},
   "outputs": [
    {
     "name": "stdout",
     "output_type": "stream",
     "text": [
      "eia8602005\n",
      "eia8602008\n",
      "eia8602009\n",
      "eia8602010\n",
      "eia8602011\n",
      "eia8602012\n",
      "eia8602013\n",
      "eia8602014\n",
      "eia8602015\n",
      "eia8602016\n",
      "eia8602017\n",
      "eia8602018\n",
      "eia8602019\n",
      "eia8602020\n",
      "eia8602021\n",
      "eia8602021ER\n",
      "f8612015\n",
      "f8612016\n",
      "f8612017\n",
      "f8612018\n",
      "f8612019\n",
      "f8612020\n",
      "f8612021\n",
      "f906920_2005\n",
      "f923_2008\n",
      "f923_2009\n",
      "f923_2010\n",
      "f923_2011\n",
      "f923_2012\n",
      "f923_2013\n",
      "f923_2014\n",
      "f923_2015\n",
      "f923_2016\n",
      "f923_2017\n",
      "f923_2018\n",
      "f923_2019\n",
      "f923_2020\n",
      "f923_2021\n",
      "f923_2021ER\n",
      "f923_2022\n"
     ]
    }
   ],
   "source": [
    "for n in range(0,len(zip_list)):\n",
    "    zip_file = zip_list[n]\n",
    "    with zipfile.ZipFile(path+zip_list[n],\"r\") as zip_ref:\n",
    "        zip_ref.extractall('inputs/'+zip_file[:-4])\n",
    "    print(zip_file[:-4])"
   ]
  },
  {
   "cell_type": "code",
   "execution_count": null,
   "metadata": {},
   "outputs": [],
   "source": []
  }
 ],
 "metadata": {
  "kernelspec": {
   "display_name": "Python 3 (ipykernel)",
   "language": "python",
   "name": "python3"
  },
  "language_info": {
   "codemirror_mode": {
    "name": "ipython",
    "version": 3
   },
   "file_extension": ".py",
   "mimetype": "text/x-python",
   "name": "python",
   "nbconvert_exporter": "python",
   "pygments_lexer": "ipython3",
   "version": "3.9.12"
  }
 },
 "nbformat": 4,
 "nbformat_minor": 4
}
